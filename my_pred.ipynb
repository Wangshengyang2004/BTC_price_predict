{
 "cells": [
  {
   "cell_type": "code",
   "execution_count": 8,
   "metadata": {},
   "outputs": [],
   "source": [
    "import numpy as np\n",
    "import pandas as pd\n",
    "import matplotlib.pyplot as plt\n",
    "import seaborn as sns\n",
    "from sklearn.preprocessing import MinMaxScaler"
   ]
  },
  {
   "cell_type": "code",
   "execution_count": 9,
   "metadata": {},
   "outputs": [],
   "source": [
    "def get_data():\n",
    "    filepath = 'BTC-USDT-from-2023-09-01-to-2023-10-19.csv'\n",
    "    data = pd.read_csv(filepath)\n",
    "    data = data.sort_values('Timestamp')\n",
    "    data['Date'] = data['Timestamp']\n",
    "    data.head()\n",
    "    arr = data['Close'].values\n",
    "    arr = np.reshape(arr, (-1, 1))\n",
    "    mm = MinMaxScaler()\n",
    "    arr = mm.fit_transform(arr)\n",
    "    arr = np.reshape(arr, (-1))\n",
    "    X = []\n",
    "    Label = []\n",
    "    window_len = 12\n",
    "\n",
    "    for i in range(len(arr) - window_len -1):\n",
    "        X.append(arr[i:i + window_len])\n",
    "        Label.append(arr[i + window_len])\n",
    "\n",
    "    X = np.array(X)\n",
    "    Label = np.array(Label)\n",
    "\n",
    "    X_train = X[:3500]\n",
    "    Label_train = Label[:3500]\n",
    "\n",
    "    X_test = X[3500:]\n",
    "    Label_test = Label[3500:]\n",
    "    return X_train, Label_train, X_test, Label_test\n",
    "\n",
    "X_train, Label_train, X_test, Label_test = get_data()"
   ]
  },
  {
   "cell_type": "code",
   "execution_count": 10,
   "metadata": {},
   "outputs": [],
   "source": [
    "import tensorflow as tf\n",
    "window_len = 12\n",
    "hidden_units = 64\n",
    "\n",
    "model_layers = [\n",
    "    tf.keras.layers.Reshape((window_len, 1), input_shape=(window_len,)),\n",
    "    tf.keras.layers.SimpleRNN(units=hidden_units, return_sequences=False),\n",
    "    tf.keras.layers.Dense(units=1, activation='sigmoid'),\n",
    "    tf.keras.layers.Dense(1, activation='sigmoid')\n",
    "]"
   ]
  },
  {
   "cell_type": "code",
   "execution_count": 11,
   "metadata": {},
   "outputs": [
    {
     "name": "stderr",
     "output_type": "stream",
     "text": [
      "2023-10-19 15:05:46.502510: I tensorflow/core/common_runtime/pluggable_device/pluggable_device_factory.cc:303] Could not identify NUMA node of platform GPU ID 0, defaulting to 0. Your kernel may not have been built with NUMA support.\n",
      "2023-10-19 15:05:46.502550: I tensorflow/core/common_runtime/pluggable_device/pluggable_device_factory.cc:269] Created TensorFlow device (/job:localhost/replica:0/task:0/device:GPU:0 with 0 MB memory) -> physical PluggableDevice (device: 0, name: METAL, pci bus id: <undefined>)\n"
     ]
    },
    {
     "name": "stdout",
     "output_type": "stream",
     "text": [
      "Metal device set to: Apple M1 Pro\n",
      "\n",
      "systemMemory: 16.00 GB\n",
      "maxCacheSize: 5.33 GB\n",
      "\n",
      "Model: \"sequential\"\n",
      "_________________________________________________________________\n",
      " Layer (type)                Output Shape              Param #   \n",
      "=================================================================\n",
      " reshape (Reshape)           (None, 12, 1)             0         \n",
      "                                                                 \n",
      " simple_rnn (SimpleRNN)      (None, 64)                4224      \n",
      "                                                                 \n",
      " dense (Dense)               (None, 1)                 65        \n",
      "                                                                 \n",
      " dense_1 (Dense)             (None, 1)                 2         \n",
      "                                                                 \n",
      "=================================================================\n",
      "Total params: 4291 (16.76 KB)\n",
      "Trainable params: 4291 (16.76 KB)\n",
      "Non-trainable params: 0 (0.00 Byte)\n",
      "_________________________________________________________________\n",
      "None\n"
     ]
    }
   ],
   "source": [
    "model = tf.keras.Sequential(model_layers)\n",
    "print(model.summary())"
   ]
  },
  {
   "cell_type": "code",
   "execution_count": 12,
   "metadata": {},
   "outputs": [
    {
     "name": "stdout",
     "output_type": "stream",
     "text": [
      "Epoch 1/100\n"
     ]
    },
    {
     "name": "stderr",
     "output_type": "stream",
     "text": [
      "2023-10-19 15:05:47.722355: I tensorflow/core/grappler/optimizers/custom_graph_optimizer_registry.cc:114] Plugin optimizer for device_type GPU is enabled.\n"
     ]
    },
    {
     "name": "stdout",
     "output_type": "stream",
     "text": [
      "110/110 [==============================] - 12s 98ms/step - loss: 0.0443\n",
      "Epoch 2/100\n",
      "110/110 [==============================] - 11s 96ms/step - loss: 0.0377\n",
      "Epoch 3/100\n",
      "110/110 [==============================] - 10s 87ms/step - loss: 0.0332\n",
      "Epoch 4/100\n",
      "110/110 [==============================] - 10s 88ms/step - loss: 0.0301\n",
      "Epoch 5/100\n",
      "110/110 [==============================] - 10s 91ms/step - loss: 0.0280\n",
      "Epoch 6/100\n",
      "110/110 [==============================] - 9s 80ms/step - loss: 0.0266\n",
      "Epoch 7/100\n",
      "110/110 [==============================] - 10s 87ms/step - loss: 0.0258\n",
      "Epoch 8/100\n",
      "110/110 [==============================] - 10s 89ms/step - loss: 0.0253\n",
      "Epoch 9/100\n",
      "110/110 [==============================] - 9s 80ms/step - loss: 0.0251\n",
      "Epoch 10/100\n",
      "110/110 [==============================] - 10s 87ms/step - loss: 0.0249\n",
      "Epoch 11/100\n",
      " 76/110 [===================>..........] - ETA: 3s - loss: 0.0249"
     ]
    }
   ],
   "source": [
    "model.compile(optimizer='adam', loss='mean_squared_error')\n",
    "history = model.fit(X_train, Label_train, epochs=100)"
   ]
  },
  {
   "cell_type": "code",
   "execution_count": null,
   "metadata": {},
   "outputs": [],
   "source": [
    "def plot_loss(loss):\n",
    "    fig = plt.figure()\n",
    "    ax = fig.add_subplot(111)\n",
    "    ax.plot(range(len(loss)), loss)\n",
    "    plt.grid(True)\n",
    "    plt.show()"
   ]
  },
  {
   "cell_type": "code",
   "execution_count": null,
   "metadata": {},
   "outputs": [],
   "source": [
    "plot_loss(history.history['loss'])"
   ]
  },
  {
   "cell_type": "code",
   "execution_count": null,
   "metadata": {},
   "outputs": [],
   "source": [
    "def plot_result(prediction, true):\n",
    "    fig = plt.figure()\n",
    "    ax = fig.add_subplot(111)\n",
    "    ax.plot(range(len(prediction)), prediction, label='prediction')\n",
    "    ax.plot(range(len(true)), true, label='true')\n",
    "    ax.legend(['prediction', 'true'])\n",
    "    plt.show()"
   ]
  },
  {
   "cell_type": "code",
   "execution_count": null,
   "metadata": {},
   "outputs": [],
   "source": [
    "prediction = model.predict(X_test)\n",
    "\n",
    "plot_result(prediction, Label_test)"
   ]
  }
 ],
 "metadata": {
  "kernelspec": {
   "display_name": "base",
   "language": "python",
   "name": "python3"
  },
  "language_info": {
   "codemirror_mode": {
    "name": "ipython",
    "version": 3
   },
   "file_extension": ".py",
   "mimetype": "text/x-python",
   "name": "python",
   "nbconvert_exporter": "python",
   "pygments_lexer": "ipython3",
   "version": "3.10.12"
  }
 },
 "nbformat": 4,
 "nbformat_minor": 2
}
