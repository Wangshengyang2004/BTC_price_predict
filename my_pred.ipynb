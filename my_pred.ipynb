{
 "cells": [
  {
   "cell_type": "code",
   "execution_count": 8,
   "metadata": {},
   "outputs": [],
   "source": [
    "import numpy as np\n",
    "import pandas as pd\n",
    "import matplotlib.pyplot as plt\n",
    "import seaborn as sns\n",
    "from sklearn.preprocessing import MinMaxScaler"
   ]
  },
  {
   "cell_type": "code",
   "execution_count": 9,
   "metadata": {},
   "outputs": [],
   "source": [
    "def get_data():\n",
    "    filepath = 'BTC-USDT-from-2023-09-01-to-2023-10-19.csv'\n",
    "    data = pd.read_csv(filepath)\n",
    "    data = data.sort_values('Timestamp')\n",
    "    data['Date'] = data['Timestamp']\n",
    "    data.head()\n",
    "    arr = data['Close'].values\n",
    "    arr = np.reshape(arr, (-1, 1))\n",
    "    mm = MinMaxScaler()\n",
    "    arr = mm.fit_transform(arr)\n",
    "    arr = np.reshape(arr, (-1))\n",
    "    X = []\n",
    "    Label = []\n",
    "    window_len = 12\n",
    "\n",
    "    for i in range(len(arr) - window_len -1):\n",
    "        X.append(arr[i:i + window_len])\n",
    "        Label.append(arr[i + window_len])\n",
    "\n",
    "    X = np.array(X)\n",
    "    Label = np.array(Label)\n",
    "\n",
    "    X_train = X[:3500]\n",
    "    Label_train = Label[:3500]\n",
    "\n",
    "    X_test = X[3500:]\n",
    "    Label_test = Label[3500:]\n",
    "    return X_train, Label_train, X_test, Label_test\n",
    "\n",
    "X_train, Label_train, X_test, Label_test = get_data()"
   ]
  },
  {
   "cell_type": "code",
   "execution_count": 10,
   "metadata": {},
   "outputs": [],
   "source": [
    "import tensorflow as tf\n",
    "window_len = 12\n",
    "hidden_units = 64\n",
    "\n",
    "model_layers = [\n",
    "    tf.keras.layers.Reshape((window_len, 1), input_shape=(window_len,)),\n",
    "    tf.keras.layers.SimpleRNN(units=hidden_units, return_sequences=False),\n",
    "    tf.keras.layers.Dense(units=1, activation='sigmoid'),\n",
    "    tf.keras.layers.Dense(1, activation='sigmoid')\n",
    "]"
   ]
  },
  {
   "cell_type": "code",
   "execution_count": 11,
   "metadata": {},
   "outputs": [
    {
     "name": "stderr",
     "output_type": "stream",
     "text": [
      "2023-10-19 15:05:46.502510: I tensorflow/core/common_runtime/pluggable_device/pluggable_device_factory.cc:303] Could not identify NUMA node of platform GPU ID 0, defaulting to 0. Your kernel may not have been built with NUMA support.\n",
      "2023-10-19 15:05:46.502550: I tensorflow/core/common_runtime/pluggable_device/pluggable_device_factory.cc:269] Created TensorFlow device (/job:localhost/replica:0/task:0/device:GPU:0 with 0 MB memory) -> physical PluggableDevice (device: 0, name: METAL, pci bus id: <undefined>)\n"
     ]
    },
    {
     "name": "stdout",
     "output_type": "stream",
     "text": [
      "Metal device set to: Apple M1 Pro\n",
      "\n",
      "systemMemory: 16.00 GB\n",
      "maxCacheSize: 5.33 GB\n",
      "\n",
      "Model: \"sequential\"\n",
      "_________________________________________________________________\n",
      " Layer (type)                Output Shape              Param #   \n",
      "=================================================================\n",
      " reshape (Reshape)           (None, 12, 1)             0         \n",
      "                                                                 \n",
      " simple_rnn (SimpleRNN)      (None, 64)                4224      \n",
      "                                                                 \n",
      " dense (Dense)               (None, 1)                 65        \n",
      "                                                                 \n",
      " dense_1 (Dense)             (None, 1)                 2         \n",
      "                                                                 \n",
      "=================================================================\n",
      "Total params: 4291 (16.76 KB)\n",
      "Trainable params: 4291 (16.76 KB)\n",
      "Non-trainable params: 0 (0.00 Byte)\n",
      "_________________________________________________________________\n",
      "None\n"
     ]
    }
   ],
   "source": [
    "model = tf.keras.Sequential(model_layers)\n",
    "print(model.summary())"
   ]
  },
  {
   "cell_type": "code",
   "execution_count": 12,
   "metadata": {},
   "outputs": [
    {
     "name": "stdout",
     "output_type": "stream",
     "text": [
      "Epoch 1/100\n"
     ]
    },
    {
     "name": "stderr",
     "output_type": "stream",
     "text": [
      "2023-10-19 15:05:47.722355: I tensorflow/core/grappler/optimizers/custom_graph_optimizer_registry.cc:114] Plugin optimizer for device_type GPU is enabled.\n"
     ]
    },
    {
     "name": "stdout",
     "output_type": "stream",
     "text": [
      "110/110 [==============================] - 12s 98ms/step - loss: 0.0443\n",
      "Epoch 2/100\n",
      "110/110 [==============================] - 11s 96ms/step - loss: 0.0377\n",
      "Epoch 3/100\n",
      "110/110 [==============================] - 10s 87ms/step - loss: 0.0332\n",
      "Epoch 4/100\n",
      "110/110 [==============================] - 10s 88ms/step - loss: 0.0301\n",
      "Epoch 5/100\n",
      "110/110 [==============================] - 10s 91ms/step - loss: 0.0280\n",
      "Epoch 6/100\n",
      "110/110 [==============================] - 9s 80ms/step - loss: 0.0266\n",
      "Epoch 7/100\n",
      "110/110 [==============================] - 10s 87ms/step - loss: 0.0258\n",
      "Epoch 8/100\n",
      "110/110 [==============================] - 10s 89ms/step - loss: 0.0253\n",
      "Epoch 9/100\n",
      "110/110 [==============================] - 9s 80ms/step - loss: 0.0251\n",
      "Epoch 10/100\n",
      "110/110 [==============================] - 10s 87ms/step - loss: 0.0249\n",
      "Epoch 11/100\n",
      "110/110 [==============================] - 11s 101ms/step - loss: 0.0248\n",
      "Epoch 12/100\n",
      "110/110 [==============================] - 8s 74ms/step - loss: 0.0248\n",
      "Epoch 13/100\n",
      "110/110 [==============================] - 8s 72ms/step - loss: 0.0248\n",
      "Epoch 14/100\n",
      "110/110 [==============================] - 9s 86ms/step - loss: 0.0247\n",
      "Epoch 15/100\n",
      "110/110 [==============================] - 9s 79ms/step - loss: 0.0247\n",
      "Epoch 16/100\n",
      "110/110 [==============================] - 10s 88ms/step - loss: 0.0247\n",
      "Epoch 17/100\n",
      "110/110 [==============================] - 8s 75ms/step - loss: 0.0247\n",
      "Epoch 18/100\n",
      "110/110 [==============================] - 8s 73ms/step - loss: 0.0247\n",
      "Epoch 19/100\n",
      "110/110 [==============================] - 8s 72ms/step - loss: 0.0247\n",
      "Epoch 20/100\n",
      "110/110 [==============================] - 8s 72ms/step - loss: 0.0249\n",
      "Epoch 21/100\n",
      "110/110 [==============================] - 8s 73ms/step - loss: 0.0248\n",
      "Epoch 22/100\n",
      "110/110 [==============================] - 8s 76ms/step - loss: 0.0248\n",
      "Epoch 23/100\n",
      "110/110 [==============================] - 8s 74ms/step - loss: 0.0247\n",
      "Epoch 24/100\n",
      "110/110 [==============================] - 8s 74ms/step - loss: 0.0248\n",
      "Epoch 25/100\n",
      "110/110 [==============================] - 8s 75ms/step - loss: 0.0248\n",
      "Epoch 26/100\n",
      "110/110 [==============================] - 8s 75ms/step - loss: 0.0247\n",
      "Epoch 27/100\n",
      "110/110 [==============================] - 8s 74ms/step - loss: 0.0248\n",
      "Epoch 28/100\n",
      "110/110 [==============================] - 8s 76ms/step - loss: 0.0247\n",
      "Epoch 29/100\n",
      "110/110 [==============================] - 9s 81ms/step - loss: 0.0247\n",
      "Epoch 30/100\n",
      "110/110 [==============================] - 9s 85ms/step - loss: 0.0248\n",
      "Epoch 31/100\n",
      "110/110 [==============================] - 14s 130ms/step - loss: 0.0248\n",
      "Epoch 32/100\n",
      "110/110 [==============================] - 11s 97ms/step - loss: 0.0248\n",
      "Epoch 33/100\n",
      "110/110 [==============================] - 17s 156ms/step - loss: 0.0247\n",
      "Epoch 34/100\n",
      "110/110 [==============================] - 11s 98ms/step - loss: 0.0248\n",
      "Epoch 35/100\n",
      "110/110 [==============================] - 11s 101ms/step - loss: 0.0247\n",
      "Epoch 36/100\n",
      "110/110 [==============================] - 11s 103ms/step - loss: 0.0247\n",
      "Epoch 37/100\n",
      "110/110 [==============================] - 10s 88ms/step - loss: 0.0248\n",
      "Epoch 38/100\n",
      "110/110 [==============================] - 10s 89ms/step - loss: 0.0247\n",
      "Epoch 39/100\n",
      "110/110 [==============================] - 12s 105ms/step - loss: 0.0248\n",
      "Epoch 40/100\n",
      "110/110 [==============================] - 10s 93ms/step - loss: 0.0247\n",
      "Epoch 41/100\n",
      "110/110 [==============================] - 11s 101ms/step - loss: 0.0247\n",
      "Epoch 42/100\n",
      "110/110 [==============================] - 11s 97ms/step - loss: 0.0233\n",
      "Epoch 43/100\n",
      "110/110 [==============================] - 10s 86ms/step - loss: 0.0189\n",
      "Epoch 44/100\n",
      "110/110 [==============================] - 9s 78ms/step - loss: 0.0160\n",
      "Epoch 45/100\n",
      "110/110 [==============================] - 9s 83ms/step - loss: 0.0134\n",
      "Epoch 46/100\n",
      "110/110 [==============================] - 9s 79ms/step - loss: 0.0115\n",
      "Epoch 47/100\n",
      "110/110 [==============================] - 8s 73ms/step - loss: 0.0100\n",
      "Epoch 48/100\n",
      "110/110 [==============================] - 9s 82ms/step - loss: 0.0087\n",
      "Epoch 49/100\n",
      "110/110 [==============================] - 9s 80ms/step - loss: 0.0077\n",
      "Epoch 50/100\n",
      "110/110 [==============================] - 9s 86ms/step - loss: 0.0068\n",
      "Epoch 51/100\n",
      "110/110 [==============================] - 9s 78ms/step - loss: 0.0061\n",
      "Epoch 52/100\n",
      "110/110 [==============================] - 8s 77ms/step - loss: 0.0054\n",
      "Epoch 53/100\n",
      "110/110 [==============================] - 8s 76ms/step - loss: 0.0048\n",
      "Epoch 54/100\n",
      "110/110 [==============================] - 8s 73ms/step - loss: 0.0044\n",
      "Epoch 55/100\n",
      "110/110 [==============================] - 9s 79ms/step - loss: 0.0040\n",
      "Epoch 56/100\n",
      "110/110 [==============================] - 9s 85ms/step - loss: 0.0035\n",
      "Epoch 57/100\n",
      "110/110 [==============================] - 9s 81ms/step - loss: 0.0032\n",
      "Epoch 58/100\n",
      "110/110 [==============================] - 9s 84ms/step - loss: 0.0029\n",
      "Epoch 59/100\n",
      "110/110 [==============================] - 9s 82ms/step - loss: 0.0026\n",
      "Epoch 60/100\n",
      "110/110 [==============================] - 9s 84ms/step - loss: 0.0024\n",
      "Epoch 61/100\n",
      "110/110 [==============================] - 8s 75ms/step - loss: 0.0022\n",
      "Epoch 62/100\n",
      "110/110 [==============================] - 9s 78ms/step - loss: 0.0020\n",
      "Epoch 63/100\n",
      "110/110 [==============================] - 9s 86ms/step - loss: 0.0019\n",
      "Epoch 64/100\n",
      "110/110 [==============================] - 9s 80ms/step - loss: 0.0017\n",
      "Epoch 65/100\n",
      "110/110 [==============================] - 11s 96ms/step - loss: 0.0016\n",
      "Epoch 66/100\n",
      "110/110 [==============================] - 9s 79ms/step - loss: 0.0015\n",
      "Epoch 67/100\n",
      "110/110 [==============================] - 8s 76ms/step - loss: 0.0014\n",
      "Epoch 68/100\n",
      "110/110 [==============================] - 9s 77ms/step - loss: 0.0014\n",
      "Epoch 69/100\n",
      "110/110 [==============================] - 8s 75ms/step - loss: 0.0012\n",
      "Epoch 70/100\n",
      "110/110 [==============================] - 9s 78ms/step - loss: 0.0012\n",
      "Epoch 71/100\n",
      "110/110 [==============================] - 9s 82ms/step - loss: 0.0011\n",
      "Epoch 72/100\n",
      "110/110 [==============================] - 8s 76ms/step - loss: 0.0010\n",
      "Epoch 73/100\n",
      "110/110 [==============================] - 8s 73ms/step - loss: 0.0010\n",
      "Epoch 74/100\n",
      "110/110 [==============================] - 8s 71ms/step - loss: 9.4188e-04\n",
      "Epoch 75/100\n",
      "110/110 [==============================] - 8s 69ms/step - loss: 8.8825e-04\n",
      "Epoch 76/100\n",
      "110/110 [==============================] - 8s 77ms/step - loss: 8.4754e-04\n",
      "Epoch 77/100\n",
      "110/110 [==============================] - 8s 72ms/step - loss: 8.4129e-04\n",
      "Epoch 78/100\n",
      "110/110 [==============================] - 8s 73ms/step - loss: 7.9260e-04\n",
      "Epoch 79/100\n",
      "110/110 [==============================] - 8s 73ms/step - loss: 7.9435e-04\n",
      "Epoch 80/100\n",
      "110/110 [==============================] - 8s 72ms/step - loss: 7.2275e-04\n",
      "Epoch 81/100\n",
      "110/110 [==============================] - 8s 74ms/step - loss: 7.0394e-04\n",
      "Epoch 82/100\n",
      "110/110 [==============================] - 8s 71ms/step - loss: 6.7921e-04\n",
      "Epoch 83/100\n",
      "110/110 [==============================] - 8s 70ms/step - loss: 6.4901e-04\n",
      "Epoch 84/100\n",
      "110/110 [==============================] - 8s 75ms/step - loss: 6.4854e-04\n",
      "Epoch 85/100\n",
      "110/110 [==============================] - 8s 76ms/step - loss: 6.3912e-04\n",
      "Epoch 86/100\n",
      "110/110 [==============================] - 8s 74ms/step - loss: 6.2152e-04\n",
      "Epoch 87/100\n",
      "110/110 [==============================] - 8s 72ms/step - loss: 5.9132e-04\n",
      "Epoch 88/100\n",
      "110/110 [==============================] - 8s 73ms/step - loss: 5.8810e-04\n",
      "Epoch 89/100\n",
      "110/110 [==============================] - 8s 74ms/step - loss: 5.6270e-04\n",
      "Epoch 90/100\n",
      "110/110 [==============================] - 8s 70ms/step - loss: 5.6861e-04\n",
      "Epoch 91/100\n",
      "110/110 [==============================] - 8s 71ms/step - loss: 5.5320e-04\n",
      "Epoch 92/100\n",
      "110/110 [==============================] - 9s 85ms/step - loss: 5.2274e-04\n",
      "Epoch 93/100\n",
      "110/110 [==============================] - 10s 88ms/step - loss: 5.0239e-04\n",
      "Epoch 94/100\n",
      "110/110 [==============================] - 10s 87ms/step - loss: 4.9514e-04\n",
      "Epoch 95/100\n",
      "110/110 [==============================] - 8s 69ms/step - loss: 4.9635e-04\n",
      "Epoch 96/100\n",
      "110/110 [==============================] - 8s 71ms/step - loss: 4.7657e-04\n",
      "Epoch 97/100\n",
      "110/110 [==============================] - 8s 71ms/step - loss: 4.6624e-04\n",
      "Epoch 98/100\n",
      "110/110 [==============================] - 8s 76ms/step - loss: 4.5281e-04\n",
      "Epoch 99/100\n",
      "110/110 [==============================] - 8s 69ms/step - loss: 4.6911e-04\n",
      "Epoch 100/100\n",
      "110/110 [==============================] - 8s 69ms/step - loss: 4.3226e-04\n"
     ]
    }
   ],
   "source": [
    "model.compile(optimizer='adam', loss='mean_squared_error')\n",
    "history = model.fit(X_train, Label_train, epochs=100)"
   ]
  },
  {
   "cell_type": "code",
   "execution_count": 13,
   "metadata": {},
   "outputs": [],
   "source": [
    "def plot_loss(loss):\n",
    "    fig = plt.figure()\n",
    "    ax = fig.add_subplot(111)\n",
    "    ax.plot(range(len(loss)), loss)\n",
    "    plt.grid(True)\n",
    "    plt.show()"
   ]
  },
  {
   "cell_type": "code",
   "execution_count": 14,
   "metadata": {},
   "outputs": [
    {
     "data": {
      "image/png": "[encoded data removed]",
      "text/plain": [
       "<Figure size 640x480 with 1 Axes>"
      ]
     },
     "metadata": {},
     "output_type": "display_data"
    }
   ],
   "source": [
    "plot_loss(history.history['loss'])"
   ]
  },
  {
   "cell_type": "code",
   "execution_count": 15,
   "metadata": {},
   "outputs": [],
   "source": [
    "def plot_result(prediction, true):\n",
    "    fig = plt.figure()\n",
    "    ax = fig.add_subplot(111)\n",
    "    ax.plot(range(len(prediction)), prediction, label='prediction')\n",
    "    ax.plot(range(len(true)), true, label='true')\n",
    "    ax.legend(['prediction', 'true'])\n",
    "    plt.show()"
   ]
  },
  {
   "cell_type": "code",
   "execution_count": 16,
   "metadata": {},
   "outputs": [
    {
     "name": "stdout",
     "output_type": "stream",
     "text": [
      " 9/33 [=======>......................] - ETA: 0s"
     ]
    },
    {
     "name": "stderr",
     "output_type": "stream",
     "text": [
      "2023-10-19 15:20:47.843135: I tensorflow/core/grappler/optimizers/custom_graph_optimizer_registry.cc:114] Plugin optimizer for device_type GPU is enabled.\n"
     ]
    },
    {
     "name": "stdout",
     "output_type": "stream",
     "text": [
      "33/33 [==============================] - 1s 16ms/step\n"
     ]
    },
    {
     "data": {
      "image/png": "[encoded data removed]",
      "text/plain": [
       "<Figure size 640x480 with 1 Axes>"
      ]
     },
     "metadata": {},
     "output_type": "display_data"
    }
   ],
   "source": [
    "prediction = model.predict(X_test)\n",
    "\n",
    "plot_result(prediction, Label_test)"
   ]
  },
  {
   "cell_type": "code",
   "execution_count": null,
   "metadata": {},
   "outputs": [],
   "source": []
  }
 ],
 "metadata": {
  "kernelspec": {
   "display_name": "base",
   "language": "python",
   "name": "python3"
  },
  "language_info": {
   "codemirror_mode": {
    "name": "ipython",
    "version": 3
   },
   "file_extension": ".py",
   "mimetype": "text/x-python",
   "name": "python",
   "nbconvert_exporter": "python",
   "pygments_lexer": "ipython3",
   "version": "3.10.12"
  }
 },
 "nbformat": 4,
 "nbformat_minor": 2
}
